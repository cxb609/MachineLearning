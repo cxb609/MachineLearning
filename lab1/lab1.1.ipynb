{
 "cells": [
  {
   "cell_type": "code",
   "execution_count": 15,
   "metadata": {
    "scrolled": false
   },
   "outputs": [
    {
     "name": "stdout",
     "output_type": "stream",
     "text": [
      "w=0: 334.52147355080865\n",
      "closed-form: loss_train = [10.38815893]\n",
      "loss_val = [13.50072398]\n"
     ]
    }
   ],
   "source": [
    "# -*- coding:utf-8 -*-\n",
    "import pandas as pd\n",
    "import numpy as np\n",
    "import requests\n",
    "r = requests.get('''https://www.csie.ntu.edu.tw/~cjlin/libsvmtools/datasets/regression/housing_scale''')\n",
    "\n",
    "def loss_function(x,y,w):\n",
    "    x_shape = x.shape\n",
    "    m = x_shape[0]\n",
    "    xw = x@w\n",
    "    yy = []\n",
    "    for i in y:\n",
    "        yy.append(i)\n",
    "    sum = 0\n",
    "    for i in range(0,x_shape[0]):\n",
    "        sum = sum + (yy[i]-xw[i])*(yy[i]-xw[i])\n",
    "    loss = sum/(2*m)\n",
    "    return loss\n",
    "\n",
    "def train(x,y):\n",
    "    w = (np.linalg.inv(x.T.dot(x)).dot(x.T)).dot(y)\n",
    "    return w\n",
    "\n",
    "from sklearn.datasets import load_svmlight_file\n",
    "from io import BytesIO\n",
    "# get dataset\n",
    "X, Y = load_svmlight_file(f=BytesIO(r.content), n_features=13)\n",
    "X = X.toarray()\n",
    "Y = Y.reshape((-1, 1))\n",
    "\n",
    "# add one column to X as b\n",
    "x_shape = X.shape\n",
    "x0 = np.ones((x_shape[0],1))\n",
    "X = np.column_stack((X,x0))\n",
    "\n",
    "from sklearn.model_selection import train_test_split\n",
    "X_train,X_test,Y_train,Y_test = train_test_split(X,Y,test_size = 0.2)\n",
    "\n",
    "#initial W\n",
    "W = np.random.rand(x_shape[1]+1,1)\n",
    "print(\"w=0:\",loss_function(X_train,Y_train,W)[0])\n",
    "\n",
    "W = train(X_train,Y_train)\n",
    "print(\"closed-form: loss_train =\",loss_function(X_train,Y_train,W))\n",
    "print(\"loss_val =\",loss_function(X_test,Y_test,W))\n",
    "\n"
   ]
  }
 ],
 "metadata": {
  "kernelspec": {
   "display_name": "Python 3",
   "language": "python",
   "name": "python3"
  },
  "language_info": {
   "codemirror_mode": {
    "name": "ipython",
    "version": 3
   },
   "file_extension": ".py",
   "mimetype": "text/x-python",
   "name": "python",
   "nbconvert_exporter": "python",
   "pygments_lexer": "ipython3",
   "version": "3.7.0"
  }
 },
 "nbformat": 4,
 "nbformat_minor": 2
}
